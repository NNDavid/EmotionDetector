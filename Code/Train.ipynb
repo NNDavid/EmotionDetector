{
 "cells": [
  {
   "cell_type": "markdown",
   "id": "a9512131",
   "metadata": {},
   "source": [
    "# Train"
   ]
  },
  {
   "cell_type": "code",
   "execution_count": 8,
   "id": "f2aa1f66",
   "metadata": {},
   "outputs": [],
   "source": [
    "from tensorflow.keras.utils import image_dataset_from_directory\n",
    "from tensorflow.keras import Sequential\n",
    "from tensorflow.keras.layers import Rescaling, Conv2D, MaxPooling2D, Flatten, Dense\n",
    "from tensorflow.keras.callbacks import EarlyStopping, ModelCheckpoint\n",
    "from tensorflow.keras.losses import SparseCategoricalCrossentropy\n",
    "from tensorflow.keras.metrics import SparseCategoricalAccuracy\n",
    "from tensorflow.data import AUTOTUNE\n",
    "import os"
   ]
  },
  {
   "cell_type": "markdown",
   "id": "6198f331",
   "metadata": {},
   "source": [
    "## Set paramaters"
   ]
  },
  {
   "cell_type": "code",
   "execution_count": 9,
   "id": "ae716120",
   "metadata": {},
   "outputs": [],
   "source": [
    "BATCH_SIZE = 16\n",
    "IMG_HEIGHT = 64\n",
    "IMG_WIDTH = 64\n",
    "DATA_PATH = 'Train_dataset'\n",
    "NUM_CLASSES = len(os.listdir(DATA_PATH))\n",
    "MODEL_NAME = 'model.hdf5'"
   ]
  },
  {
   "cell_type": "markdown",
   "id": "1001dc8e",
   "metadata": {},
   "source": [
    "## Read dataset"
   ]
  },
  {
   "cell_type": "code",
   "execution_count": 10,
   "id": "ddbc8001",
   "metadata": {},
   "outputs": [
    {
     "name": "stdout",
     "output_type": "stream",
     "text": [
      "Found 4151 files belonging to 6 classes.\n",
      "Using 3321 files for training.\n",
      "Found 4151 files belonging to 6 classes.\n",
      "Using 830 files for validation.\n"
     ]
    }
   ],
   "source": [
    "train_ds = image_dataset_from_directory(\n",
    "  DATA_PATH,\n",
    "  validation_split=0.2,\n",
    "  subset=\"training\",\n",
    "  seed=123,\n",
    "  image_size=(IMG_HEIGHT, IMG_WIDTH),\n",
    "  batch_size=BATCH_SIZE)\n",
    "\n",
    "val_ds = image_dataset_from_directory(\n",
    "  DATA_PATH,\n",
    "  validation_split=0.2,\n",
    "  subset=\"validation\",\n",
    "  seed=123,\n",
    "  image_size=(IMG_HEIGHT, IMG_WIDTH),\n",
    "  batch_size=BATCH_SIZE)"
   ]
  },
  {
   "cell_type": "code",
   "execution_count": 11,
   "id": "10ddabd6",
   "metadata": {},
   "outputs": [],
   "source": [
    "train_ds = train_ds.cache().prefetch(buffer_size=AUTOTUNE)\n",
    "val_ds = val_ds.cache().prefetch(buffer_size=AUTOTUNE)"
   ]
  },
  {
   "cell_type": "markdown",
   "id": "f3191401",
   "metadata": {},
   "source": [
    "## Create neural network architecture"
   ]
  },
  {
   "cell_type": "code",
   "execution_count": 12,
   "id": "b199b47f",
   "metadata": {},
   "outputs": [],
   "source": [
    "model = Sequential([\n",
    "  Rescaling(1./255),\n",
    "  Conv2D(64, 3, activation='relu'),\n",
    "  MaxPooling2D(),\n",
    "  Conv2D(64, 3, activation='relu'),\n",
    "  MaxPooling2D(),\n",
    "  Conv2D(64, 3, activation='relu'),\n",
    "  MaxPooling2D(),\n",
    "  Flatten(),\n",
    "  Dense(256, activation='relu'),\n",
    "  Dense(NUM_CLASSES)\n",
    "])"
   ]
  },
  {
   "cell_type": "markdown",
   "id": "d013a553",
   "metadata": {},
   "source": [
    "## Compile and train neural network"
   ]
  },
  {
   "cell_type": "code",
   "execution_count": 13,
   "id": "8e217477",
   "metadata": {},
   "outputs": [
    {
     "name": "stdout",
     "output_type": "stream",
     "text": [
      "Epoch 1/100\n",
      "208/208 [==============================] - 14s 38ms/step - loss: 1.6183 - sparse_categorical_accuracy: 0.2933 - val_loss: 1.0751 - val_sparse_categorical_accuracy: 0.6253\n",
      "Epoch 2/100\n",
      "208/208 [==============================] - 4s 21ms/step - loss: 0.8052 - sparse_categorical_accuracy: 0.6992 - val_loss: 0.5727 - val_sparse_categorical_accuracy: 0.8036\n",
      "Epoch 3/100\n",
      "208/208 [==============================] - 4s 20ms/step - loss: 0.4944 - sparse_categorical_accuracy: 0.8178 - val_loss: 0.4073 - val_sparse_categorical_accuracy: 0.8422\n",
      "Epoch 4/100\n",
      "208/208 [==============================] - 4s 21ms/step - loss: 0.3081 - sparse_categorical_accuracy: 0.8931 - val_loss: 0.2581 - val_sparse_categorical_accuracy: 0.9084\n",
      "Epoch 5/100\n",
      "208/208 [==============================] - 4s 21ms/step - loss: 0.1957 - sparse_categorical_accuracy: 0.9335 - val_loss: 0.2029 - val_sparse_categorical_accuracy: 0.9313\n",
      "Epoch 6/100\n",
      "208/208 [==============================] - 4s 20ms/step - loss: 0.1446 - sparse_categorical_accuracy: 0.9503 - val_loss: 0.1334 - val_sparse_categorical_accuracy: 0.9494\n",
      "Epoch 7/100\n",
      "208/208 [==============================] - 4s 20ms/step - loss: 0.1058 - sparse_categorical_accuracy: 0.9627 - val_loss: 0.1453 - val_sparse_categorical_accuracy: 0.9470\n",
      "Epoch 8/100\n",
      "208/208 [==============================] - 4s 21ms/step - loss: 0.0862 - sparse_categorical_accuracy: 0.9699 - val_loss: 0.1207 - val_sparse_categorical_accuracy: 0.9494\n",
      "Epoch 9/100\n",
      "208/208 [==============================] - 4s 21ms/step - loss: 0.0486 - sparse_categorical_accuracy: 0.9843 - val_loss: 0.0918 - val_sparse_categorical_accuracy: 0.9651\n",
      "Epoch 10/100\n",
      "208/208 [==============================] - 4s 21ms/step - loss: 0.0482 - sparse_categorical_accuracy: 0.9855 - val_loss: 0.0530 - val_sparse_categorical_accuracy: 0.9843\n",
      "Epoch 11/100\n",
      "208/208 [==============================] - 4s 20ms/step - loss: 0.0521 - sparse_categorical_accuracy: 0.9825 - val_loss: 0.0951 - val_sparse_categorical_accuracy: 0.9699\n",
      "Epoch 12/100\n",
      "208/208 [==============================] - 4s 21ms/step - loss: 0.0464 - sparse_categorical_accuracy: 0.9828 - val_loss: 0.1608 - val_sparse_categorical_accuracy: 0.9458\n",
      "Epoch 13/100\n",
      "208/208 [==============================] - 4s 21ms/step - loss: 0.0600 - sparse_categorical_accuracy: 0.9789 - val_loss: 0.0892 - val_sparse_categorical_accuracy: 0.9675\n",
      "Epoch 14/100\n",
      "208/208 [==============================] - 4s 21ms/step - loss: 0.0317 - sparse_categorical_accuracy: 0.9889 - val_loss: 0.1010 - val_sparse_categorical_accuracy: 0.9675\n",
      "Epoch 15/100\n",
      "208/208 [==============================] - 4s 20ms/step - loss: 0.0156 - sparse_categorical_accuracy: 0.9958 - val_loss: 0.0397 - val_sparse_categorical_accuracy: 0.9855\n",
      "Epoch 16/100\n",
      "208/208 [==============================] - 4s 21ms/step - loss: 0.0337 - sparse_categorical_accuracy: 0.9892 - val_loss: 0.1637 - val_sparse_categorical_accuracy: 0.9554\n",
      "Epoch 17/100\n",
      "208/208 [==============================] - 4s 20ms/step - loss: 0.0516 - sparse_categorical_accuracy: 0.9831 - val_loss: 0.0686 - val_sparse_categorical_accuracy: 0.9687\n",
      "Epoch 18/100\n",
      "208/208 [==============================] - 4s 20ms/step - loss: 0.0160 - sparse_categorical_accuracy: 0.9946 - val_loss: 0.0530 - val_sparse_categorical_accuracy: 0.9843\n",
      "Epoch 19/100\n",
      "208/208 [==============================] - 4s 21ms/step - loss: 0.0045 - sparse_categorical_accuracy: 0.9991 - val_loss: 0.0289 - val_sparse_categorical_accuracy: 0.9892\n",
      "Epoch 20/100\n",
      "208/208 [==============================] - 4s 21ms/step - loss: 0.0037 - sparse_categorical_accuracy: 0.9991 - val_loss: 0.0468 - val_sparse_categorical_accuracy: 0.9831\n",
      "Epoch 21/100\n",
      "208/208 [==============================] - 4s 20ms/step - loss: 0.0822 - sparse_categorical_accuracy: 0.9723 - val_loss: 0.1182 - val_sparse_categorical_accuracy: 0.9578\n",
      "Epoch 22/100\n",
      "208/208 [==============================] - 4s 20ms/step - loss: 0.0165 - sparse_categorical_accuracy: 0.9943 - val_loss: 0.0536 - val_sparse_categorical_accuracy: 0.9892\n",
      "Epoch 23/100\n",
      "208/208 [==============================] - 4s 19ms/step - loss: 0.0042 - sparse_categorical_accuracy: 0.9988 - val_loss: 0.0453 - val_sparse_categorical_accuracy: 0.9904\n",
      "Epoch 24/100\n",
      "208/208 [==============================] - 4s 20ms/step - loss: 8.4317e-04 - sparse_categorical_accuracy: 1.0000 - val_loss: 0.0380 - val_sparse_categorical_accuracy: 0.9952\n",
      "Epoch 25/100\n",
      "208/208 [==============================] - 4s 21ms/step - loss: 0.0052 - sparse_categorical_accuracy: 0.9988 - val_loss: 0.0517 - val_sparse_categorical_accuracy: 0.9867\n",
      "Epoch 26/100\n",
      "208/208 [==============================] - 4s 21ms/step - loss: 0.0011 - sparse_categorical_accuracy: 1.0000 - val_loss: 0.0348 - val_sparse_categorical_accuracy: 0.9928\n",
      "Epoch 27/100\n",
      "208/208 [==============================] - 4s 20ms/step - loss: 1.6235e-04 - sparse_categorical_accuracy: 1.0000 - val_loss: 0.0363 - val_sparse_categorical_accuracy: 0.9940\n",
      "Epoch 28/100\n",
      "208/208 [==============================] - 4s 20ms/step - loss: 6.1854e-05 - sparse_categorical_accuracy: 1.0000 - val_loss: 0.0359 - val_sparse_categorical_accuracy: 0.9940\n",
      "Epoch 29/100\n",
      "208/208 [==============================] - 4s 20ms/step - loss: 4.9510e-05 - sparse_categorical_accuracy: 1.0000 - val_loss: 0.0356 - val_sparse_categorical_accuracy: 0.9940\n"
     ]
    },
    {
     "data": {
      "text/plain": [
       "<keras.callbacks.History at 0x275bf45d040>"
      ]
     },
     "execution_count": 13,
     "metadata": {},
     "output_type": "execute_result"
    }
   ],
   "source": [
    "early_stop = EarlyStopping(monitor='val_loss', patience=10)\n",
    "model_checkpoint =  ModelCheckpoint(MODEL_NAME, save_best_only=True, monitor='val_loss', mode='min')\n",
    "model.compile(\n",
    "  optimizer='adam',\n",
    "  loss=SparseCategoricalCrossentropy(from_logits=True),\n",
    "  metrics=[SparseCategoricalAccuracy()])\n",
    "\n",
    "model.fit(\n",
    "  train_ds,\n",
    "  validation_data=val_ds,\n",
    "  epochs=100, callbacks=[early_stop, model_checkpoint]\n",
    ")"
   ]
  }
 ],
 "metadata": {
  "kernelspec": {
   "display_name": "Python 3 (ipykernel)",
   "language": "python",
   "name": "python3"
  },
  "language_info": {
   "codemirror_mode": {
    "name": "ipython",
    "version": 3
   },
   "file_extension": ".py",
   "mimetype": "text/x-python",
   "name": "python",
   "nbconvert_exporter": "python",
   "pygments_lexer": "ipython3",
   "version": "3.9.7"
  }
 },
 "nbformat": 4,
 "nbformat_minor": 5
}
