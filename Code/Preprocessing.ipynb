{
 "cells": [
  {
   "cell_type": "markdown",
   "id": "a37425df",
   "metadata": {},
   "source": [
    "# Preprocessing"
   ]
  },
  {
   "cell_type": "code",
   "execution_count": 1,
   "id": "33c9a070",
   "metadata": {},
   "outputs": [],
   "source": [
    "import cv2\n",
    "import numpy as np\n",
    "import os\n",
    "import matplotlib.pyplot as plt\n",
    "import mtcnn\n",
    "from PIL import Image"
   ]
  },
  {
   "cell_type": "markdown",
   "id": "38c8e2ce",
   "metadata": {},
   "source": [
    "## Extract face\n",
    "<b>Source:</b> https://machinelearningmastery.com/how-to-train-a-progressive-growing-gan-in-keras-for-synthesizing-faces/"
   ]
  },
  {
   "cell_type": "code",
   "execution_count": 2,
   "id": "854f408d",
   "metadata": {},
   "outputs": [],
   "source": [
    "def extract_face(model, pixels, required_size=(128, 128)):\n",
    "    # detect face in the image\n",
    "    faces = model.detect_faces(pixels)\n",
    "    # skip cases where we could not detect a face\n",
    "    if len(faces) == 0:\n",
    "        return None\n",
    "    #extract details of the face\n",
    "    x1, y1, width, height = faces[0]['box']\n",
    "    # force detected pixel values to be positive (bug fix)\n",
    "    x1, y1 = abs(x1), abs(y1)\n",
    "    # convert into coordinates\n",
    "    x2, y2 = x1 + width, y1 + height\n",
    "    # retrieve face pixels\n",
    "    face_pixels = pixels[y1:y2, x1:x2]\n",
    "    # resize pixels to the model size\n",
    "    image = Image.fromarray(face_pixels)\n",
    "    image.convert('RGB')\n",
    "    image = image.resize(required_size)\n",
    "    face_array = np.asarray(image)\n",
    "    return face_array"
   ]
  },
  {
   "cell_type": "markdown",
   "id": "809f2af6",
   "metadata": {},
   "source": [
    "## Preprocess video"
   ]
  },
  {
   "cell_type": "code",
   "execution_count": 3,
   "id": "7a234f9d",
   "metadata": {},
   "outputs": [],
   "source": [
    "SKIP_PERCENTAGE = 0.6\n",
    "READ_PERCENTAGE = 0.2\n",
    "def preprocessVideo(model, video_path, target_path):\n",
    "    # Read video and calculate fps, number of frames and video length\n",
    "    cap = cv2.VideoCapture(video_path)\n",
    "    fps = cap.get(cv2.CAP_PROP_FPS)\n",
    "    frame_count = cap.get(cv2.CAP_PROP_FRAME_COUNT)\n",
    "    video_length = frame_count / fps\n",
    "    # Skip first part of video\n",
    "    for i in range(int(frame_count * SKIP_PERCENTAGE)):\n",
    "        ret, frame = cap.read()\n",
    "        if not ret:\n",
    "            exit(1)\n",
    "    #Read second part of video\n",
    "    for i in range(int(frame_count * READ_PERCENTAGE)):\n",
    "        ret, frame = cap.read()\n",
    "        if ret:\n",
    "            face = extract_face(model, frame)\n",
    "            if face is None:\n",
    "                continue\n",
    "            cv2.imwrite(os.path.join(target_path,f'{os.path.splitext(os.path.basename(video_path))[0]}_{i}.jpg'), face)\n",
    "        else:\n",
    "            break\n",
    "    cap.release()"
   ]
  },
  {
   "cell_type": "markdown",
   "id": "a5be1e39",
   "metadata": {},
   "source": [
    "## Create train dataset"
   ]
  },
  {
   "cell_type": "code",
   "execution_count": 4,
   "id": "74fa6b45",
   "metadata": {},
   "outputs": [],
   "source": [
    "def create_train_dataset(model, dataset_path, target_path):\n",
    "    # Create train dataset folder\n",
    "    os.makedirs(target_path, exist_ok=True)\n",
    "    for emotion in os.listdir(dataset_path):\n",
    "        # Create emotion folder\n",
    "        emotion_source_dir = os.path.join(dataset_path, emotion)\n",
    "        emotion_target_dir = os.path.join(target_path, emotion)\n",
    "        os.makedirs(emotion_target_dir, exist_ok=True)\n",
    "        for video in os.listdir(os.path.join(dataset_path, emotion)):\n",
    "            video_path = os.path.join(emotion_source_dir, video)\n",
    "            preprocessVideo(model, video_path, emotion_target_dir)"
   ]
  },
  {
   "cell_type": "markdown",
   "id": "a5ace931",
   "metadata": {},
   "source": [
    "## Create test dataset"
   ]
  },
  {
   "cell_type": "code",
   "execution_count": 5,
   "id": "6d2b3134",
   "metadata": {},
   "outputs": [],
   "source": [
    "def create_test_dataset(model, dataset_path, target_path):\n",
    "    # Create test dataset folder\n",
    "    os.makedirs(target_path, exist_ok=True)\n",
    "    for video in os.listdir(dataset_path):\n",
    "        # Create video folder\n",
    "        video_source_path = os.path.join(dataset_path, video)\n",
    "        video_target_path = os.path.join(target_path, os.path.splitext(video)[0])\n",
    "        os.makedirs(video_target_path, exist_ok=True)\n",
    "        preprocessVideo(model, video_source_path, video_target_path,)"
   ]
  },
  {
   "cell_type": "markdown",
   "id": "c41baad3",
   "metadata": {},
   "source": [
    "## Convert to grayscale"
   ]
  },
  {
   "cell_type": "code",
   "execution_count": 6,
   "id": "22cd8e80",
   "metadata": {},
   "outputs": [],
   "source": [
    "def create_grayscale_train_dataset(dataset_path, target_path):\n",
    "    # Create train dataset folder\n",
    "    os.makedirs(target_path, exist_ok=True)\n",
    "    for emotion in os.listdir(dataset_path):\n",
    "        # Create emotion folder\n",
    "        emotion_source_dir = os.path.join(dataset_path, emotion)\n",
    "        emotion_target_dir = os.path.join(target_path, emotion)\n",
    "        os.makedirs(emotion_target_dir, exist_ok=True)\n",
    "        for img_name in os.listdir(emotion_source_dir):\n",
    "            img_path = os.path.join(emotion_source_dir, img_name)\n",
    "            img = cv2.imread(img_path)\n",
    "            img_grayscale = cv2.cvtColor(img, cv2.COLOR_RGB2GRAY)\n",
    "            cv2.imwrite(os.path.join(emotion_target_dir, f'{img_name}.jpg'), img_grayscale)\n",
    "            \n",
    "def create_grayscale_test_dataset(dataset_path, target_path):\n",
    "    # Create train dataset folder\n",
    "    os.makedirs(target_path, exist_ok=True)\n",
    "    for test in os.listdir(dataset_path):\n",
    "        # Create emotion folder\n",
    "        test_source_dir = os.path.join(dataset_path, test)\n",
    "        test_target_dir = os.path.join(target_path, test)\n",
    "        os.makedirs(test_target_dir, exist_ok=True)\n",
    "        for img_name in os.listdir(test_source_dir):\n",
    "            img_path = os.path.join(test_source_dir, img_name)\n",
    "            img = cv2.imread(img_path)\n",
    "            img_grayscale = cv2.cvtColor(img, cv2.COLOR_RGB2GRAY)\n",
    "            cv2.imwrite(os.path.join(test_target_dir, f'{img_name}.jpg'), img_grayscale)"
   ]
  },
  {
   "cell_type": "code",
   "execution_count": 7,
   "id": "bb24f8da",
   "metadata": {},
   "outputs": [],
   "source": [
    "#mtcnn = mtcnn.MTCNN()\n",
    "#create_test_dataset(mtcnn, 'Dataset/test', 'processed/test')\n",
    "#create_train_dataset(mtcnn, 'Dataset/train', 'processed/train')\n",
    "#create_grayscale_dataset('processed/train', 'processed/grayscale')\n",
    "create_grayscale_test_dataset('processed/test', 'processed/grayscale_test')"
   ]
  },
  {
   "cell_type": "code",
   "execution_count": null,
   "id": "50d906bc",
   "metadata": {},
   "outputs": [],
   "source": []
  }
 ],
 "metadata": {
  "kernelspec": {
   "display_name": "Python 3 (ipykernel)",
   "language": "python",
   "name": "python3"
  },
  "language_info": {
   "codemirror_mode": {
    "name": "ipython",
    "version": 3
   },
   "file_extension": ".py",
   "mimetype": "text/x-python",
   "name": "python",
   "nbconvert_exporter": "python",
   "pygments_lexer": "ipython3",
   "version": "3.9.7"
  }
 },
 "nbformat": 4,
 "nbformat_minor": 5
}
